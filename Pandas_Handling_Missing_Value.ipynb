{
  "nbformat": 4,
  "nbformat_minor": 0,
  "metadata": {
    "colab": {
      "name": "Pandas Handling Missing Value.ipynb",
      "provenance": [],
      "authorship_tag": "ABX9TyPLeizcb3eNYWrR5vPeSKeV",
      "include_colab_link": true
    },
    "kernelspec": {
      "name": "python3",
      "display_name": "Python 3"
    }
  },
  "cells": [
    {
      "cell_type": "markdown",
      "metadata": {
        "id": "view-in-github",
        "colab_type": "text"
      },
      "source": [
        "<a href=\"https://colab.research.google.com/github/nadyadtm/Exploratory-Data-Analysis-Birth/blob/main/Pandas_Handling_Missing_Value.ipynb\" target=\"_parent\"><img src=\"https://colab.research.google.com/assets/colab-badge.svg\" alt=\"Open In Colab\"/></a>"
      ]
    },
    {
      "cell_type": "markdown",
      "metadata": {
        "id": "oby4jwodbXP7"
      },
      "source": [
        "# Handling Missing Value In Pandas"
      ]
    },
    {
      "cell_type": "code",
      "metadata": {
        "colab": {
          "base_uri": "https://localhost:8080/"
        },
        "cellView": "code",
        "id": "-MCl41IwaLNA",
        "outputId": "9b701023-eaed-44b8-b747-c0ef39c6c7e7"
      },
      "source": [
        "# mount google drive\n",
        "from google.colab import drive\n",
        "drive.mount('/content/drive')"
      ],
      "execution_count": 20,
      "outputs": [
        {
          "output_type": "stream",
          "text": [
            "Drive already mounted at /content/drive; to attempt to forcibly remount, call drive.mount(\"/content/drive\", force_remount=True).\n"
          ],
          "name": "stdout"
        }
      ]
    },
    {
      "cell_type": "markdown",
      "metadata": {
        "id": "re27pxle4cKD"
      },
      "source": [
        "### Import & Load Data"
      ]
    },
    {
      "cell_type": "code",
      "metadata": {
        "id": "9luAssFha2KG"
      },
      "source": [
        "import pandas as pd"
      ],
      "execution_count": 55,
      "outputs": []
    },
    {
      "cell_type": "code",
      "metadata": {
        "colab": {
          "base_uri": "https://localhost:8080/",
          "height": 363
        },
        "id": "Efw8B0zZaliP",
        "outputId": "b5a438d5-124f-4b6b-9913-82426aeff5c4"
      },
      "source": [
        "df = pd.read_csv('drive/My Drive/Belajar/Data Exploration/Data Hamil/data.csv')\r\n",
        "df.head(10)"
      ],
      "execution_count": 57,
      "outputs": [
        {
          "output_type": "execute_result",
          "data": {
            "text/html": [
              "<div>\n",
              "<style scoped>\n",
              "    .dataframe tbody tr th:only-of-type {\n",
              "        vertical-align: middle;\n",
              "    }\n",
              "\n",
              "    .dataframe tbody tr th {\n",
              "        vertical-align: top;\n",
              "    }\n",
              "\n",
              "    .dataframe thead th {\n",
              "        text-align: right;\n",
              "    }\n",
              "</style>\n",
              "<table border=\"1\" class=\"dataframe\">\n",
              "  <thead>\n",
              "    <tr style=\"text-align: right;\">\n",
              "      <th></th>\n",
              "      <th>fage</th>\n",
              "      <th>mage</th>\n",
              "      <th>mature</th>\n",
              "      <th>weeks</th>\n",
              "      <th>premie</th>\n",
              "      <th>visits</th>\n",
              "      <th>marital</th>\n",
              "      <th>gained</th>\n",
              "      <th>weight</th>\n",
              "      <th>lowbirthweight</th>\n",
              "      <th>gender</th>\n",
              "      <th>habit</th>\n",
              "      <th>whitemom</th>\n",
              "    </tr>\n",
              "  </thead>\n",
              "  <tbody>\n",
              "    <tr>\n",
              "      <th>0</th>\n",
              "      <td>NaN</td>\n",
              "      <td>13</td>\n",
              "      <td>younger mom</td>\n",
              "      <td>39.0</td>\n",
              "      <td>full term</td>\n",
              "      <td>10.0</td>\n",
              "      <td>married</td>\n",
              "      <td>38.0</td>\n",
              "      <td>7.63</td>\n",
              "      <td>not low</td>\n",
              "      <td>male</td>\n",
              "      <td>nonsmoker</td>\n",
              "      <td>not white</td>\n",
              "    </tr>\n",
              "    <tr>\n",
              "      <th>1</th>\n",
              "      <td>NaN</td>\n",
              "      <td>14</td>\n",
              "      <td>younger mom</td>\n",
              "      <td>42.0</td>\n",
              "      <td>full term</td>\n",
              "      <td>15.0</td>\n",
              "      <td>married</td>\n",
              "      <td>20.0</td>\n",
              "      <td>7.88</td>\n",
              "      <td>not low</td>\n",
              "      <td>male</td>\n",
              "      <td>nonsmoker</td>\n",
              "      <td>not white</td>\n",
              "    </tr>\n",
              "    <tr>\n",
              "      <th>2</th>\n",
              "      <td>19.0</td>\n",
              "      <td>15</td>\n",
              "      <td>younger mom</td>\n",
              "      <td>37.0</td>\n",
              "      <td>full term</td>\n",
              "      <td>11.0</td>\n",
              "      <td>married</td>\n",
              "      <td>38.0</td>\n",
              "      <td>6.63</td>\n",
              "      <td>not low</td>\n",
              "      <td>female</td>\n",
              "      <td>nonsmoker</td>\n",
              "      <td>white</td>\n",
              "    </tr>\n",
              "    <tr>\n",
              "      <th>3</th>\n",
              "      <td>21.0</td>\n",
              "      <td>15</td>\n",
              "      <td>younger mom</td>\n",
              "      <td>41.0</td>\n",
              "      <td>full term</td>\n",
              "      <td>6.0</td>\n",
              "      <td>married</td>\n",
              "      <td>34.0</td>\n",
              "      <td>8.00</td>\n",
              "      <td>not low</td>\n",
              "      <td>male</td>\n",
              "      <td>nonsmoker</td>\n",
              "      <td>white</td>\n",
              "    </tr>\n",
              "    <tr>\n",
              "      <th>4</th>\n",
              "      <td>NaN</td>\n",
              "      <td>15</td>\n",
              "      <td>younger mom</td>\n",
              "      <td>39.0</td>\n",
              "      <td>full term</td>\n",
              "      <td>9.0</td>\n",
              "      <td>married</td>\n",
              "      <td>27.0</td>\n",
              "      <td>6.38</td>\n",
              "      <td>not low</td>\n",
              "      <td>female</td>\n",
              "      <td>nonsmoker</td>\n",
              "      <td>not white</td>\n",
              "    </tr>\n",
              "    <tr>\n",
              "      <th>5</th>\n",
              "      <td>NaN</td>\n",
              "      <td>15</td>\n",
              "      <td>younger mom</td>\n",
              "      <td>38.0</td>\n",
              "      <td>full term</td>\n",
              "      <td>19.0</td>\n",
              "      <td>married</td>\n",
              "      <td>22.0</td>\n",
              "      <td>5.38</td>\n",
              "      <td>low</td>\n",
              "      <td>male</td>\n",
              "      <td>nonsmoker</td>\n",
              "      <td>not white</td>\n",
              "    </tr>\n",
              "    <tr>\n",
              "      <th>6</th>\n",
              "      <td>18.0</td>\n",
              "      <td>15</td>\n",
              "      <td>younger mom</td>\n",
              "      <td>37.0</td>\n",
              "      <td>full term</td>\n",
              "      <td>12.0</td>\n",
              "      <td>married</td>\n",
              "      <td>76.0</td>\n",
              "      <td>8.44</td>\n",
              "      <td>not low</td>\n",
              "      <td>male</td>\n",
              "      <td>nonsmoker</td>\n",
              "      <td>not white</td>\n",
              "    </tr>\n",
              "    <tr>\n",
              "      <th>7</th>\n",
              "      <td>17.0</td>\n",
              "      <td>15</td>\n",
              "      <td>younger mom</td>\n",
              "      <td>35.0</td>\n",
              "      <td>premie</td>\n",
              "      <td>5.0</td>\n",
              "      <td>married</td>\n",
              "      <td>15.0</td>\n",
              "      <td>4.69</td>\n",
              "      <td>low</td>\n",
              "      <td>male</td>\n",
              "      <td>nonsmoker</td>\n",
              "      <td>not white</td>\n",
              "    </tr>\n",
              "    <tr>\n",
              "      <th>8</th>\n",
              "      <td>NaN</td>\n",
              "      <td>16</td>\n",
              "      <td>younger mom</td>\n",
              "      <td>38.0</td>\n",
              "      <td>full term</td>\n",
              "      <td>9.0</td>\n",
              "      <td>married</td>\n",
              "      <td>NaN</td>\n",
              "      <td>8.81</td>\n",
              "      <td>not low</td>\n",
              "      <td>male</td>\n",
              "      <td>nonsmoker</td>\n",
              "      <td>white</td>\n",
              "    </tr>\n",
              "    <tr>\n",
              "      <th>9</th>\n",
              "      <td>20.0</td>\n",
              "      <td>16</td>\n",
              "      <td>younger mom</td>\n",
              "      <td>37.0</td>\n",
              "      <td>full term</td>\n",
              "      <td>13.0</td>\n",
              "      <td>married</td>\n",
              "      <td>52.0</td>\n",
              "      <td>6.94</td>\n",
              "      <td>not low</td>\n",
              "      <td>female</td>\n",
              "      <td>nonsmoker</td>\n",
              "      <td>white</td>\n",
              "    </tr>\n",
              "  </tbody>\n",
              "</table>\n",
              "</div>"
            ],
            "text/plain": [
              "   fage  mage       mature  weeks  ... lowbirthweight  gender      habit   whitemom\n",
              "0   NaN    13  younger mom   39.0  ...        not low    male  nonsmoker  not white\n",
              "1   NaN    14  younger mom   42.0  ...        not low    male  nonsmoker  not white\n",
              "2  19.0    15  younger mom   37.0  ...        not low  female  nonsmoker      white\n",
              "3  21.0    15  younger mom   41.0  ...        not low    male  nonsmoker      white\n",
              "4   NaN    15  younger mom   39.0  ...        not low  female  nonsmoker  not white\n",
              "5   NaN    15  younger mom   38.0  ...            low    male  nonsmoker  not white\n",
              "6  18.0    15  younger mom   37.0  ...        not low    male  nonsmoker  not white\n",
              "7  17.0    15  younger mom   35.0  ...            low    male  nonsmoker  not white\n",
              "8   NaN    16  younger mom   38.0  ...        not low    male  nonsmoker      white\n",
              "9  20.0    16  younger mom   37.0  ...        not low  female  nonsmoker      white\n",
              "\n",
              "[10 rows x 13 columns]"
            ]
          },
          "metadata": {
            "tags": []
          },
          "execution_count": 57
        }
      ]
    },
    {
      "cell_type": "markdown",
      "metadata": {
        "id": "2pQPZxtgbbMg"
      },
      "source": [
        "### Cek Missing Value\r\n",
        "Untuk mengecek informasi pada data tersebut, dapat dilihat "
      ]
    },
    {
      "cell_type": "code",
      "metadata": {
        "id": "CWEixSIPa9JD",
        "colab": {
          "base_uri": "https://localhost:8080/"
        },
        "outputId": "8bcb1094-f7fb-4f81-bdf4-22a9d5e9f3e1"
      },
      "source": [
        "df.info()"
      ],
      "execution_count": 58,
      "outputs": [
        {
          "output_type": "stream",
          "text": [
            "<class 'pandas.core.frame.DataFrame'>\n",
            "RangeIndex: 1000 entries, 0 to 999\n",
            "Data columns (total 13 columns):\n",
            " #   Column          Non-Null Count  Dtype  \n",
            "---  ------          --------------  -----  \n",
            " 0   fage            829 non-null    float64\n",
            " 1   mage            1000 non-null   int64  \n",
            " 2   mature          1000 non-null   object \n",
            " 3   weeks           998 non-null    float64\n",
            " 4   premie          998 non-null    object \n",
            " 5   visits          991 non-null    float64\n",
            " 6   marital         999 non-null    object \n",
            " 7   gained          973 non-null    float64\n",
            " 8   weight          1000 non-null   float64\n",
            " 9   lowbirthweight  1000 non-null   object \n",
            " 10  gender          1000 non-null   object \n",
            " 11  habit           999 non-null    object \n",
            " 12  whitemom        998 non-null    object \n",
            "dtypes: float64(5), int64(1), object(7)\n",
            "memory usage: 101.7+ KB\n"
          ],
          "name": "stdout"
        }
      ]
    },
    {
      "cell_type": "code",
      "metadata": {
        "colab": {
          "base_uri": "https://localhost:8080/"
        },
        "id": "cQzYr65WfExY",
        "outputId": "33c0d753-c7db-4658-bbfc-c71be985200d"
      },
      "source": [
        "print('Data yang terdapat missing value \\n',df.columns[df.isnull().any()].values)"
      ],
      "execution_count": 142,
      "outputs": [
        {
          "output_type": "stream",
          "text": [
            "Data yang terdapat missing value \n",
            " ['fage' 'weeks' 'premie' 'visits' 'marital' 'gained' 'habit' 'whitemom']\n"
          ],
          "name": "stdout"
        }
      ]
    },
    {
      "cell_type": "markdown",
      "metadata": {
        "id": "TWGILfykTECm"
      },
      "source": [
        "### Handling Missing value pada data kontinu\r\n",
        "Untuk melakukan handling missing value pada data kontinu, digunakan median impurity, yaitu mengganti nilai kosong dengan median dari kolom\r\n"
      ]
    },
    {
      "cell_type": "code",
      "metadata": {
        "id": "vVp3DesuGt49",
        "colab": {
          "base_uri": "https://localhost:8080/"
        },
        "outputId": "1bc9c14c-b623-4898-9f92-1272e349b038"
      },
      "source": [
        "med = df.median(skipna = True)\r\n",
        "med"
      ],
      "execution_count": 143,
      "outputs": [
        {
          "output_type": "execute_result",
          "data": {
            "text/plain": [
              "fage      30.00\n",
              "mage      27.00\n",
              "weeks     39.00\n",
              "visits    12.00\n",
              "gained    30.00\n",
              "weight     7.31\n",
              "dtype: float64"
            ]
          },
          "metadata": {
            "tags": []
          },
          "execution_count": 143
        }
      ]
    },
    {
      "cell_type": "code",
      "metadata": {
        "id": "j-_eQUu4TM6g"
      },
      "source": [
        "df_clean = df.fillna(med)"
      ],
      "execution_count": 144,
      "outputs": []
    },
    {
      "cell_type": "markdown",
      "metadata": {
        "id": "ec7RtQYZgQwb"
      },
      "source": [
        "Berikut ini adalah row yang masih terdapat missing value"
      ]
    },
    {
      "cell_type": "code",
      "metadata": {
        "colab": {
          "base_uri": "https://localhost:8080/"
        },
        "id": "-ILLuNLLT7qg",
        "outputId": "5ce9ffa2-053e-4e06-8e80-0ee41b0eddf0"
      },
      "source": [
        "is_NaN = df_clean.isnull()\r\n",
        "row_has_NaN = is_NaN.any(axis=1)\r\n",
        "rows_with_NaN = df_clean[row_has_NaN]\r\n",
        "print(rows_with_NaN)"
      ],
      "execution_count": 145,
      "outputs": [
        {
          "output_type": "stream",
          "text": [
            "     fage  mage       mature  weeks  ... lowbirthweight  gender      habit  whitemom\n",
            "365  22.0    24  younger mom   39.0  ...        not low    male  nonsmoker       NaN\n",
            "739  33.0    32  younger mom   39.0  ...        not low    male  nonsmoker     white\n",
            "979  34.0    40   mature mom   41.0  ...        not low    male  nonsmoker       NaN\n",
            "987  30.0    41   mature mom   39.0  ...            low  female        NaN     white\n",
            "\n",
            "[4 rows x 13 columns]\n"
          ],
          "name": "stdout"
        }
      ]
    },
    {
      "cell_type": "markdown",
      "metadata": {
        "id": "sOmyh4vsU-f_"
      },
      "source": [
        "### Handling Missing value pada data categorical\r\n",
        "Untuk melakukan handling missing value pada data kontinu, digunakan mode impurity, yaitu mengganti nilai kosong dengan mode dari kolom\r\n"
      ]
    },
    {
      "cell_type": "code",
      "metadata": {
        "colab": {
          "base_uri": "https://localhost:8080/"
        },
        "id": "COT_i922VCh2",
        "outputId": "07cbc0d9-8667-4e2a-84d4-a27c736b1733"
      },
      "source": [
        "mod=df_clean.mode(numeric_only = False)\r\n",
        "mod=pd.Series(mod.T[0])\r\n",
        "mod"
      ],
      "execution_count": 146,
      "outputs": [
        {
          "output_type": "execute_result",
          "data": {
            "text/plain": [
              "fage                       30\n",
              "mage                       20\n",
              "mature            younger mom\n",
              "weeks                      39\n",
              "premie              full term\n",
              "visits                     12\n",
              "marital           not married\n",
              "gained                     30\n",
              "weight                   7.44\n",
              "lowbirthweight        not low\n",
              "gender                 female\n",
              "habit               nonsmoker\n",
              "whitemom                white\n",
              "Name: 0, dtype: object"
            ]
          },
          "metadata": {
            "tags": []
          },
          "execution_count": 146
        }
      ]
    },
    {
      "cell_type": "code",
      "metadata": {
        "id": "bACeiiG7VMJa"
      },
      "source": [
        "df_clean = df_clean.fillna(mod)"
      ],
      "execution_count": 147,
      "outputs": []
    },
    {
      "cell_type": "code",
      "metadata": {
        "colab": {
          "base_uri": "https://localhost:8080/",
          "height": 206
        },
        "id": "H41VyEIMVcD3",
        "outputId": "1fd2ec57-8894-42e6-ef1a-bb4cd6f1839c"
      },
      "source": [
        "df_clean.head()"
      ],
      "execution_count": 152,
      "outputs": [
        {
          "output_type": "execute_result",
          "data": {
            "text/html": [
              "<div>\n",
              "<style scoped>\n",
              "    .dataframe tbody tr th:only-of-type {\n",
              "        vertical-align: middle;\n",
              "    }\n",
              "\n",
              "    .dataframe tbody tr th {\n",
              "        vertical-align: top;\n",
              "    }\n",
              "\n",
              "    .dataframe thead th {\n",
              "        text-align: right;\n",
              "    }\n",
              "</style>\n",
              "<table border=\"1\" class=\"dataframe\">\n",
              "  <thead>\n",
              "    <tr style=\"text-align: right;\">\n",
              "      <th></th>\n",
              "      <th>fage</th>\n",
              "      <th>mage</th>\n",
              "      <th>mature</th>\n",
              "      <th>weeks</th>\n",
              "      <th>premie</th>\n",
              "      <th>visits</th>\n",
              "      <th>marital</th>\n",
              "      <th>gained</th>\n",
              "      <th>weight</th>\n",
              "      <th>lowbirthweight</th>\n",
              "      <th>gender</th>\n",
              "      <th>habit</th>\n",
              "      <th>whitemom</th>\n",
              "    </tr>\n",
              "  </thead>\n",
              "  <tbody>\n",
              "    <tr>\n",
              "      <th>0</th>\n",
              "      <td>30.0</td>\n",
              "      <td>13</td>\n",
              "      <td>younger mom</td>\n",
              "      <td>39.0</td>\n",
              "      <td>full term</td>\n",
              "      <td>10.0</td>\n",
              "      <td>married</td>\n",
              "      <td>38.0</td>\n",
              "      <td>7.63</td>\n",
              "      <td>not low</td>\n",
              "      <td>male</td>\n",
              "      <td>nonsmoker</td>\n",
              "      <td>not white</td>\n",
              "    </tr>\n",
              "    <tr>\n",
              "      <th>1</th>\n",
              "      <td>30.0</td>\n",
              "      <td>14</td>\n",
              "      <td>younger mom</td>\n",
              "      <td>42.0</td>\n",
              "      <td>full term</td>\n",
              "      <td>15.0</td>\n",
              "      <td>married</td>\n",
              "      <td>20.0</td>\n",
              "      <td>7.88</td>\n",
              "      <td>not low</td>\n",
              "      <td>male</td>\n",
              "      <td>nonsmoker</td>\n",
              "      <td>not white</td>\n",
              "    </tr>\n",
              "    <tr>\n",
              "      <th>2</th>\n",
              "      <td>19.0</td>\n",
              "      <td>15</td>\n",
              "      <td>younger mom</td>\n",
              "      <td>37.0</td>\n",
              "      <td>full term</td>\n",
              "      <td>11.0</td>\n",
              "      <td>married</td>\n",
              "      <td>38.0</td>\n",
              "      <td>6.63</td>\n",
              "      <td>not low</td>\n",
              "      <td>female</td>\n",
              "      <td>nonsmoker</td>\n",
              "      <td>white</td>\n",
              "    </tr>\n",
              "    <tr>\n",
              "      <th>3</th>\n",
              "      <td>21.0</td>\n",
              "      <td>15</td>\n",
              "      <td>younger mom</td>\n",
              "      <td>41.0</td>\n",
              "      <td>full term</td>\n",
              "      <td>6.0</td>\n",
              "      <td>married</td>\n",
              "      <td>34.0</td>\n",
              "      <td>8.00</td>\n",
              "      <td>not low</td>\n",
              "      <td>male</td>\n",
              "      <td>nonsmoker</td>\n",
              "      <td>white</td>\n",
              "    </tr>\n",
              "    <tr>\n",
              "      <th>4</th>\n",
              "      <td>30.0</td>\n",
              "      <td>15</td>\n",
              "      <td>younger mom</td>\n",
              "      <td>39.0</td>\n",
              "      <td>full term</td>\n",
              "      <td>9.0</td>\n",
              "      <td>married</td>\n",
              "      <td>27.0</td>\n",
              "      <td>6.38</td>\n",
              "      <td>not low</td>\n",
              "      <td>female</td>\n",
              "      <td>nonsmoker</td>\n",
              "      <td>not white</td>\n",
              "    </tr>\n",
              "  </tbody>\n",
              "</table>\n",
              "</div>"
            ],
            "text/plain": [
              "   fage  mage       mature  weeks  ... lowbirthweight  gender      habit   whitemom\n",
              "0  30.0    13  younger mom   39.0  ...        not low    male  nonsmoker  not white\n",
              "1  30.0    14  younger mom   42.0  ...        not low    male  nonsmoker  not white\n",
              "2  19.0    15  younger mom   37.0  ...        not low  female  nonsmoker      white\n",
              "3  21.0    15  younger mom   41.0  ...        not low    male  nonsmoker      white\n",
              "4  30.0    15  younger mom   39.0  ...        not low  female  nonsmoker  not white\n",
              "\n",
              "[5 rows x 13 columns]"
            ]
          },
          "metadata": {
            "tags": []
          },
          "execution_count": 152
        }
      ]
    },
    {
      "cell_type": "markdown",
      "metadata": {
        "id": "yGBmO1XJeo3T"
      },
      "source": [
        "## Describe"
      ]
    },
    {
      "cell_type": "code",
      "metadata": {
        "colab": {
          "base_uri": "https://localhost:8080/",
          "height": 300
        },
        "id": "J1nXc0cAd5BZ",
        "outputId": "1c0dbb7a-9430-4984-c7dc-07f3a4de33ba"
      },
      "source": [
        "df_clean.describe()"
      ],
      "execution_count": 138,
      "outputs": [
        {
          "output_type": "execute_result",
          "data": {
            "text/html": [
              "<div>\n",
              "<style scoped>\n",
              "    .dataframe tbody tr th:only-of-type {\n",
              "        vertical-align: middle;\n",
              "    }\n",
              "\n",
              "    .dataframe tbody tr th {\n",
              "        vertical-align: top;\n",
              "    }\n",
              "\n",
              "    .dataframe thead th {\n",
              "        text-align: right;\n",
              "    }\n",
              "</style>\n",
              "<table border=\"1\" class=\"dataframe\">\n",
              "  <thead>\n",
              "    <tr style=\"text-align: right;\">\n",
              "      <th></th>\n",
              "      <th>fage</th>\n",
              "      <th>mage</th>\n",
              "      <th>weeks</th>\n",
              "      <th>visits</th>\n",
              "      <th>gained</th>\n",
              "      <th>weight</th>\n",
              "    </tr>\n",
              "  </thead>\n",
              "  <tbody>\n",
              "    <tr>\n",
              "      <th>count</th>\n",
              "      <td>1000.000000</td>\n",
              "      <td>1000.000000</td>\n",
              "      <td>1000.000000</td>\n",
              "      <td>1000.000000</td>\n",
              "      <td>1000.000000</td>\n",
              "      <td>1000.00000</td>\n",
              "    </tr>\n",
              "    <tr>\n",
              "      <th>mean</th>\n",
              "      <td>30.212000</td>\n",
              "      <td>27.000000</td>\n",
              "      <td>38.336000</td>\n",
              "      <td>12.104000</td>\n",
              "      <td>30.317000</td>\n",
              "      <td>7.10100</td>\n",
              "    </tr>\n",
              "    <tr>\n",
              "      <th>std</th>\n",
              "      <td>6.158489</td>\n",
              "      <td>6.213583</td>\n",
              "      <td>2.928768</td>\n",
              "      <td>3.937091</td>\n",
              "      <td>14.047628</td>\n",
              "      <td>1.50886</td>\n",
              "    </tr>\n",
              "    <tr>\n",
              "      <th>min</th>\n",
              "      <td>14.000000</td>\n",
              "      <td>13.000000</td>\n",
              "      <td>20.000000</td>\n",
              "      <td>0.000000</td>\n",
              "      <td>0.000000</td>\n",
              "      <td>1.00000</td>\n",
              "    </tr>\n",
              "    <tr>\n",
              "      <th>25%</th>\n",
              "      <td>26.000000</td>\n",
              "      <td>22.000000</td>\n",
              "      <td>37.000000</td>\n",
              "      <td>10.000000</td>\n",
              "      <td>21.000000</td>\n",
              "      <td>6.38000</td>\n",
              "    </tr>\n",
              "    <tr>\n",
              "      <th>50%</th>\n",
              "      <td>30.000000</td>\n",
              "      <td>27.000000</td>\n",
              "      <td>39.000000</td>\n",
              "      <td>12.000000</td>\n",
              "      <td>30.000000</td>\n",
              "      <td>7.31000</td>\n",
              "    </tr>\n",
              "    <tr>\n",
              "      <th>75%</th>\n",
              "      <td>34.000000</td>\n",
              "      <td>32.000000</td>\n",
              "      <td>40.000000</td>\n",
              "      <td>15.000000</td>\n",
              "      <td>38.000000</td>\n",
              "      <td>8.06000</td>\n",
              "    </tr>\n",
              "    <tr>\n",
              "      <th>max</th>\n",
              "      <td>55.000000</td>\n",
              "      <td>50.000000</td>\n",
              "      <td>45.000000</td>\n",
              "      <td>30.000000</td>\n",
              "      <td>85.000000</td>\n",
              "      <td>11.75000</td>\n",
              "    </tr>\n",
              "  </tbody>\n",
              "</table>\n",
              "</div>"
            ],
            "text/plain": [
              "              fage         mage  ...       gained      weight\n",
              "count  1000.000000  1000.000000  ...  1000.000000  1000.00000\n",
              "mean     30.212000    27.000000  ...    30.317000     7.10100\n",
              "std       6.158489     6.213583  ...    14.047628     1.50886\n",
              "min      14.000000    13.000000  ...     0.000000     1.00000\n",
              "25%      26.000000    22.000000  ...    21.000000     6.38000\n",
              "50%      30.000000    27.000000  ...    30.000000     7.31000\n",
              "75%      34.000000    32.000000  ...    38.000000     8.06000\n",
              "max      55.000000    50.000000  ...    85.000000    11.75000\n",
              "\n",
              "[8 rows x 6 columns]"
            ]
          },
          "metadata": {
            "tags": []
          },
          "execution_count": 138
        }
      ]
    },
    {
      "cell_type": "code",
      "metadata": {
        "id": "o2u8VuvYg2F4"
      },
      "source": [
        "df_clean.to_csv('data_clean.csv')"
      ],
      "execution_count": 150,
      "outputs": []
    }
  ]
}